{
 "cells": [
  {
   "cell_type": "code",
   "execution_count": null,
   "metadata": {},
   "outputs": [],
   "source": [
    "import pandas as pd\n",
    "import numpy as np\n",
    "import sklearn as skl\n",
    "import matplotlib.pyplot as plt"
   ]
  },
  {
   "cell_type": "code",
   "execution_count": null,
   "metadata": {},
   "outputs": [],
   "source": [
    "np.random.seed(42)"
   ]
  },
  {
   "cell_type": "code",
   "execution_count": null,
   "metadata": {},
   "outputs": [],
   "source": [
    "from sklearn.model_selection import train_test_split\n",
    "from sklearn.impute import SimpleImputer\n",
    "from sklearn.ensemble import AdaBoostClassifier, RandomForestClassifier, GradientBoostingClassifier, VotingClassifier\n",
    "from sklearn.svm import SVC\n",
    "from sklearn.neighbors import KNeighborsClassifier\n",
    "from sklearn.tree import DecisionTreeClassifier\n",
    "from sklearn.metrics import accuracy_score"
   ]
  },
  {
   "cell_type": "code",
   "execution_count": null,
   "metadata": {},
   "outputs": [],
   "source": [
    "EPOCHS = 10\n",
    "STEP_SIZE = 0.1"
   ]
  },
  {
   "cell_type": "code",
   "execution_count": null,
   "metadata": {},
   "outputs": [],
   "source": [
    "train_df = pd.read_csv('')\n",
    "train_df = train_df.sample(frac=1)\n",
    "train_df = train_df.fillna(train_df.median())\n",
    "train_df = train_df.drop_duplicates()"
   ]
  },
  {
   "cell_type": "code",
   "execution_count": null,
   "metadata": {},
   "outputs": [],
   "source": [
    "models = {\n",
    "    'AdaBoost': AdaBoostClassifier(algorithm='SAMME', random_state=42),\n",
    "    'Random Forest': RandomForestClassifier(random_state=42),\n",
    "    'Gradient Boosting': GradientBoostingClassifier(random_state=42),\n",
    "    'Support Vector Classifier': SVC(probability=True, random_state=42),\n",
    "    'K-Nearest Neighbors': KNeighborsClassifier(),\n",
    "    'Decision Tree': DecisionTreeClassifier(random_state=42),\n",
    "    'Voting Classifier': VotingClassifier(\n",
    "        estimators=[\n",
    "            ('rf', RandomForestClassifier(random_state=42)),\n",
    "            ('svc', SVC(probability=True, random_state=42))\n",
    "        ],\n",
    "        voting='soft'\n",
    "    )\n",
    "}"
   ]
  },
  {
   "cell_type": "code",
   "execution_count": null,
   "metadata": {},
   "outputs": [],
   "source": [
    "model_accuracies = {model_name: [] for model_name in models.keys()}\n",
    "test_sizes = np.arange(0.1, 1.0 + STEP_SIZE, STEP_SIZE)\n",
    "\n",
    "for test_size in test_sizes:\n",
    "    for model_name, model in models.items():\n",
    "        epoch_acci = []\n",
    "\n",
    "        for epoch in range(EPOCHS):\n",
    "            train_set, test_set = train_test_split(train_df, test_size=test_size, random_state=42)\n",
    "            imputer = SimpleImputer(strategy='median')\n",
    "\n",
    "            # 'eye_category', 'eye_position', 'gaze_direction', 'heart_rates', 'p2p_intervals', 'sys_peaks', 'dys_peaks'\n",
    "            X_train = imputer.fit_transform(train_set[['heart_rates', 'p2p_intervals', 'sys_peaks', 'dys_peaks']])\n",
    "            X_test = imputer.transform(test_set[['heart_rates', 'p2p_intervals', 'sys_peaks', 'dys_peaks']])\n",
    "\n",
    "            y_train = train_set['engagement_labels']\n",
    "            y_test = test_set['engagement_labels']\n",
    "\n",
    "            model.fit(X_train, y_train)\n",
    "            model_predictions = model.predict(X_test)\n",
    "            accuracy = accuracy_score(y_test, model_predictions)\n",
    "\n",
    "            epoch_acci.append(accuracy)\n",
    "\n",
    "            if test_size == 0.2:\n",
    "                print(f'{model_name} Epoch {epoch + 1}: {accuracy:.4f}')\n",
    "\n",
    "        model_accuracies[model_name].append(sum(epoch_acci) / len(epoch_acci))\n",
    "\n",
    "plt.figure(figsize=(14, 10))\n",
    "for model_name, accuracies in model_accuracies.items():\n",
    "    plt.plot(test_sizes, accuracies, label=model_name)\n",
    "\n",
    "plt.xlabel('Test Size')\n",
    "plt.ylabel('Accuracy')\n",
    "plt.legend()\n",
    "plt.title('Model Accuracy vs Test Size')\n",
    "plt.show();"
   ]
  }
 ],
 "metadata": {
  "kernelspec": {
   "display_name": "venv",
   "language": "python",
   "name": "python3"
  },
  "language_info": {
   "codemirror_mode": {
    "name": "ipython",
    "version": 3
   },
   "file_extension": ".py",
   "mimetype": "text/x-python",
   "name": "python",
   "nbconvert_exporter": "python",
   "pygments_lexer": "ipython3",
   "version": "3.12.0"
  }
 },
 "nbformat": 4,
 "nbformat_minor": 2
}
