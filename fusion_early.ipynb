{
 "cells": [
  {
   "cell_type": "code",
   "execution_count": null,
   "metadata": {},
   "outputs": [],
   "source": [
    "import pandas as pd\n",
    "import numpy as np\n",
    "import sklearn as skl\n",
    "import matplotlib.pyplot as plt"
   ]
  },
  {
   "cell_type": "code",
   "execution_count": null,
   "metadata": {},
   "outputs": [],
   "source": [
    "np.random.seed(42)"
   ]
  },
  {
   "cell_type": "code",
   "execution_count": null,
   "metadata": {},
   "outputs": [],
   "source": [
    "from sklearn.model_selection import train_test_split\n",
    "from sklearn.impute import SimpleImputer\n",
    "from sklearn.ensemble import RandomForestClassifier\n",
    "from sklearn.preprocessing import StandardScaler\n",
    "from sklearn.linear_model import LogisticRegression\n",
    "from sklearn.metrics import accuracy_score"
   ]
  },
  {
   "cell_type": "code",
   "execution_count": null,
   "metadata": {},
   "outputs": [],
   "source": [
    "EPOCHS = 5\n",
    "STEP_SIZE = 0.1"
   ]
  },
  {
   "cell_type": "code",
   "execution_count": null,
   "metadata": {},
   "outputs": [],
   "source": [
    "train_df = pd.read_csv('')\n",
    "train_df = train_df.sample(frac=1)\n",
    "train_df = train_df.fillna(train_df.median())\n",
    "train_df = train_df.drop_duplicates()"
   ]
  },
  {
   "cell_type": "code",
   "execution_count": null,
   "metadata": {},
   "outputs": [],
   "source": [
    "test_sizes = np.arange(0.1, 1.0, 0.1)\n",
    "\n",
    "acci = []\n",
    "for test_size in test_sizes:\n",
    "    epoch_acci = []\n",
    "\n",
    "    for epoch in range(EPOCHS):\n",
    "        train_set, test_set = train_test_split(train_df, test_size=test_size, random_state=42)\n",
    "        imputer = SimpleImputer(strategy='median')\n",
    "\n",
    "        X_train = imputer.fit_transform(train_set[['eye_category', 'eye_position', 'gaze_direction', 'heart_rates', 'p2p_intervals', 'sys_peaks', 'dys_peaks']])\n",
    "        X_test = imputer.transform(test_set[['eye_category', 'eye_position', 'gaze_direction', 'heart_rates', 'p2p_intervals', 'sys_peaks', 'dys_peaks']])\n",
    "\n",
    "        y_train = train_set['engagement_labels']\n",
    "        y_test = test_set['engagement_labels']\n",
    "\n",
    "        early_fused_model = RandomForestClassifier(random_state=42)\n",
    "        early_fused_model.fit(X_train, y_train)\n",
    "        early_fused_test = early_fused_model.predict(X_test)\n",
    "        accuracy = accuracy_score(y_test, early_fused_test)\n",
    "\n",
    "        epoch_acci.append(accuracy)\n",
    "\n",
    "    acci.append(sum(epoch_acci) / len(epoch_acci))\n",
    "\n",
    "plt.figure(figsize=(12, 8))\n",
    "plt.plot(test_sizes, acci)\n",
    "plt.xlabel('Test Size')\n",
    "plt.ylabel('Accuracy')\n",
    "plt.show();"
   ]
  },
  {
   "cell_type": "code",
   "execution_count": null,
   "metadata": {},
   "outputs": [],
   "source": []
  }
 ],
 "metadata": {
  "kernelspec": {
   "display_name": "Python 3",
   "language": "python",
   "name": "python3"
  },
  "language_info": {
   "codemirror_mode": {
    "name": "ipython",
    "version": 3
   },
   "file_extension": ".py",
   "mimetype": "text/x-python",
   "name": "python",
   "nbconvert_exporter": "python",
   "pygments_lexer": "ipython3",
   "version": "3.12.0"
  }
 },
 "nbformat": 4,
 "nbformat_minor": 2
}
