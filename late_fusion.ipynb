{
 "cells": [
  {
   "cell_type": "code",
   "execution_count": null,
   "metadata": {},
   "outputs": [],
   "source": [
    "import pandas as pd\n",
    "import numpy as np\n",
    "import sklearn as skl\n",
    "import matplotlib.pyplot as plt"
   ]
  },
  {
   "cell_type": "code",
   "execution_count": null,
   "metadata": {},
   "outputs": [],
   "source": [
    "from sklearn.model_selection import train_test_split\n",
    "from sklearn.impute import SimpleImputer\n",
    "from sklearn.ensemble import AdaBoostClassifier, RandomForestClassifier\n",
    "from sklearn.linear_model import LogisticRegression\n",
    "from sklearn.metrics import accuracy_score"
   ]
  },
  {
   "cell_type": "code",
   "execution_count": null,
   "metadata": {},
   "outputs": [],
   "source": [
    "EPOCHS = 1\n",
    "STEP_SIZE = 0.1"
   ]
  },
  {
   "cell_type": "code",
   "execution_count": null,
   "metadata": {},
   "outputs": [],
   "source": [
    "train_df = pd.read_csv('features_.csv')\n",
    "train_df = train_df.sample(frac=1)\n",
    "train_df = train_df.fillna(train_df.median())\n",
    "train_df = train_df.drop_duplicates()"
   ]
  },
  {
   "cell_type": "code",
   "execution_count": null,
   "metadata": {},
   "outputs": [],
   "source": [
    "acci = []\n",
    "for visual_weight in np.arange(0, 1.0 + STEP_SIZE, STEP_SIZE):\n",
    "    epoch_acci = []\n",
    "    physio_weight = 1 - visual_weight\n",
    "    for epoch in range(EPOCHS):\n",
    "        \n",
    "        train_set, test_set = train_test_split(train_df, test_size=0.2)\n",
    "        imputer = SimpleImputer(strategy='median')\n",
    "\n",
    "        X_batch_A_train = train_set[['eye_category','eye_position','gaze_direction']]\n",
    "        X_batch_A_train = imputer.fit_transform(X_batch_A_train)\n",
    "\n",
    "        X_batch_N_train = train_set[['heart_rates','p2p_intervals','sys_peaks','dys_peaks']]\n",
    "        X_batch_N_train = imputer.fit_transform(X_batch_N_train)\n",
    "\n",
    "        X_batch_A_test = test_set[['eye_category','eye_position','gaze_direction']]\n",
    "        X_batch_A_test = imputer.fit_transform(X_batch_A_test)\n",
    "\n",
    "        X_batch_N_test = test_set[['heart_rates','p2p_intervals','sys_peaks','dys_peaks']]\n",
    "        X_batch_N_test = imputer.fit_transform(X_batch_N_test)\n",
    "\n",
    "        y_train = train_set['engagement_labels']\n",
    "        y_test = test_set['engagement_labels']\n",
    "\n",
    "        scaler_physio = skl.preprocessing.StandardScaler().fit(X_batch_N_train)\n",
    "        X_batch_N_train = scaler_physio.transform(X_batch_N_train)\n",
    "        X_batch_N_test = scaler_physio.transform(X_batch_N_test)\n",
    "\n",
    "        # Train AdaBoost on visual features\n",
    "        visual_model = AdaBoostClassifier(n_estimators=100, random_state=42);\n",
    "        visual_model.fit(X_batch_A_train, y_train);\n",
    "\n",
    "        # Train Random Forest on physiological features\n",
    "        physio_model = RandomForestClassifier(n_estimators=100, random_state=42);\n",
    "        physio_model.fit(X_batch_N_train, y_train);\n",
    "\n",
    "        # Get probability predictions from both models\n",
    "        visual_preds_train = visual_model.predict_proba(X_batch_A_train)\n",
    "        visual_preds_test = visual_model.predict_proba(X_batch_A_test)\n",
    "\n",
    "        physio_preds_train = physio_model.predict_proba(X_batch_N_train)\n",
    "        physio_preds_test = physio_model.predict_proba(X_batch_N_test)\n",
    "\n",
    "        fused_train = np.concatenate([visual_preds_train*visual_weight, physio_preds_train*physio_weight], axis=1)\n",
    "        fused_test = np.concatenate([visual_preds_test*visual_weight, physio_preds_test*physio_weight], axis=1)\n",
    "\n",
    "        meta_classifier = LogisticRegression(multi_class='multinomial', solver='lbfgs', random_state=42)\n",
    "        meta_classifier.fit(fused_train, y_train)\n",
    "\n",
    "        final_predictions = meta_classifier.predict(fused_test);\n",
    "        \n",
    "        accuracy = accuracy_score(y_test, final_predictions);\n",
    "\n",
    "        epoch_acci.append(accuracy);\n",
    "    \n",
    "    acci.append(sum(epoch_acci)/len(epoch_acci));"
   ]
  },
  {
   "cell_type": "code",
   "execution_count": null,
   "metadata": {},
   "outputs": [],
   "source": [
    "plt.plot(acci);"
   ]
  },
  {
   "cell_type": "code",
   "execution_count": null,
   "metadata": {},
   "outputs": [],
   "source": []
  }
 ],
 "metadata": {
  "kernelspec": {
   "display_name": "Python 3",
   "language": "python",
   "name": "python3"
  },
  "language_info": {
   "codemirror_mode": {
    "name": "ipython",
    "version": 3
   },
   "file_extension": ".py",
   "mimetype": "text/x-python",
   "name": "python",
   "nbconvert_exporter": "python",
   "pygments_lexer": "ipython3",
   "version": "3.12.0"
  }
 },
 "nbformat": 4,
 "nbformat_minor": 2
}
